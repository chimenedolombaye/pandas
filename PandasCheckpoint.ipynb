{
 "cells": [
  {
   "cell_type": "code",
   "execution_count": 17,
   "metadata": {},
   "outputs": [],
   "source": [
    "import pandas as pd"
   ]
  },
  {
   "cell_type": "code",
   "execution_count": 18,
   "metadata": {},
   "outputs": [
    {
     "name": "stdout",
     "output_type": "stream",
     "text": [
      "    Name Department  Age  Gender  Salary  Experience\n",
      "0   John         IT   30    Male   50000           3\n",
      "1   Mary  Marketing   40  Female   60000           7\n",
      "2    Bob      Sales   25    Male   45000           2\n",
      "3  Sarah         IT   35  Female   55000           5\n",
      "4    Tom    Finance   45    Male   70000          10\n",
      "5   Lisa  Marketing   28  Female   55000           4\n"
     ]
    }
   ],
   "source": [
    "data ={'Name': ['John', 'Mary', 'Bob', 'Sarah', 'Tom', 'Lisa'], \n",
    "       'Department': ['IT', 'Marketing', 'Sales', 'IT', 'Finance', 'Marketing'],\n",
    "        'Age': [30, 40, 25, 35, 45, 28], 'Gender': ['Male', 'Female', 'Male', 'Female', 'Male', 'Female'],\n",
    "        'Salary': [50000, 60000, 45000, 55000, 70000, 55000], 'Experience': [3, 7, 2, 5, 10, 4]}\n",
    "employee_df = pd.DataFrame(data)\n",
    "print(employee_df)"
   ]
  },
  {
   "cell_type": "code",
   "execution_count": 19,
   "metadata": {},
   "outputs": [
    {
     "name": "stdout",
     "output_type": "stream",
     "text": [
      "   Name Department  Age  Gender  Salary  Experience\n",
      "0  John         IT   30    Male   50000           3\n",
      "1  Mary  Marketing   40  Female   60000           7\n",
      "2   Bob      Sales   25    Male   45000           2\n"
     ]
    }
   ],
   "source": [
    "#Utilisez la méthode iloc pour sélectionner les 3 premières lignes de la trame de données.\n",
    "lignes = employee_df.iloc[:3]\n",
    "print(lignes)"
   ]
  },
  {
   "cell_type": "code",
   "execution_count": 26,
   "metadata": {},
   "outputs": [
    {
     "name": "stdout",
     "output_type": "stream",
     "text": [
      "Lignes où le département est Marketing :\n",
      "   Name Department  Age  Gender  Salary  Experience\n",
      "1  Mary  Marketing   40  Female   60000           7\n",
      "5  Lisa  Marketing   28  Female   55000           4\n"
     ]
    }
   ],
   "source": [
    "#Utilisez la méthode loc pour sélectionner toutes les lignes où le département est « Marketing ».\n",
    "marketing_df = employee_df.loc[employee_df['Department'] == 'Marketing']\n",
    "print(\"Lignes où le département est Marketing :\")\n",
    "print(marketing_df)"
   ]
  },
  {
   "cell_type": "code",
   "execution_count": 29,
   "metadata": {},
   "outputs": [
    {
     "name": "stdout",
     "output_type": "stream",
     "text": [
      "   Age  Gender\n",
      "0   30    Male\n",
      "1   40  Female\n",
      "2   25    Male\n",
      "3   35  Female\n"
     ]
    }
   ],
   "source": [
    "# Utilisez la méthode iloc pour sélectionner les colonnes Âge et Sexe pour les 4 premières lignes du dataframe.\n",
    "colonne = employee_df.iloc[:4, [2,3]]\n",
    "print(colonne)"
   ]
  },
  {
   "cell_type": "code",
   "execution_count": 32,
   "metadata": {},
   "outputs": [
    {
     "name": "stdout",
     "output_type": "stream",
     "text": [
      "Sélection des colonnes Salaire et Expérience pour les hommes :\n",
      "   Salary  Experience\n",
      "0   50000           3\n",
      "2   45000           2\n",
      "4   70000          10\n"
     ]
    }
   ],
   "source": [
    "# Utilisez la méthode loc pour sélectionner les colonnes Salaire et Expérience pour toutes les lignes où le sexe est « Homme ».\n",
    "selection_hommes = employee_df.loc[employee_df['Gender'] == 'Male', ['Salary', 'Experience']]\n",
    "\n",
    "print(\"Sélection des colonnes Salaire et Expérience pour les hommes :\")\n",
    "print(selection_hommes)\n"
   ]
  },
  {
   "cell_type": "code",
   "execution_count": null,
   "metadata": {},
   "outputs": [],
   "source": []
  }
 ],
 "metadata": {
  "kernelspec": {
   "display_name": "Python 3",
   "language": "python",
   "name": "python3"
  },
  "language_info": {
   "codemirror_mode": {
    "name": "ipython",
    "version": 3
   },
   "file_extension": ".py",
   "mimetype": "text/x-python",
   "name": "python",
   "nbconvert_exporter": "python",
   "pygments_lexer": "ipython3",
   "version": "3.8.3"
  }
 },
 "nbformat": 4,
 "nbformat_minor": 4
}
